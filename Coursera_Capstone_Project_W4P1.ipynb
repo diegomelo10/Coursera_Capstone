{
 "cells": [
  {
   "cell_type": "markdown",
   "metadata": {},
   "source": [
    "# Capstone Project - The Battle of Neighborhoods (Week 1)"
   ]
  },
  {
   "cell_type": "markdown",
   "metadata": {},
   "source": [
    "## Part 1 \n",
    "\n",
    "### Introduction & Background\n",
    "The ABC company operates in the Foodservice Industry with presence in many countries all around the world. The next step in its business development is to open a new restaurant in Toronto (Canada). There are several reasons to support investmenting in a restaurant in Canada. According to the latest Foodservice Industry Forecast from Restaurants Canada, commercial foodservice sales are forecast to reach $75 billion in 2019 — a 4.4 percent increase over 2018. Also, the economy in Canada is showing fully operational capacity, surpassing unemployment rates, inflation stable and the business and consumer confidence are high due to the newly signed trade between the United States, Mexico, and Canada. Therefore it is a great time to invest and consolidate a new business in Toronto.\n"
   ]
  },
  {
   "cell_type": "markdown",
   "metadata": {},
   "source": [
    "\n",
    "### Business Problem\n",
    "With regards to the steps toward this new investment, the ABC company’s stakeholders need to identify the best location to open the new restaurant. A restaurant's location is as crucial to its success. Also, it is essential to consider what type of restaurant would be best in a given area. To find the best met considering the region to be selected, some additional attributes should be considered in the analyses such as the age of the public target and income. A comprehensive study of the mentioned demographics and possible areas to open a new business have to be performed and presented to the stakeholder's appreciation and approval.\n"
   ]
  },
  {
   "cell_type": "markdown",
   "metadata": {},
   "source": [
    "### Target Audience\n",
    "\n",
    "This study entails providing with relevant information to the stakeholders of ABC company regarding the determination of the target customers of the new restaurant and its possible best location. \n"
   ]
  },
  {
   "cell_type": "code",
   "execution_count": null,
   "metadata": {},
   "outputs": [],
   "source": []
  }
 ],
 "metadata": {
  "kernelspec": {
   "display_name": "Python 3",
   "language": "python",
   "name": "python3"
  },
  "language_info": {
   "codemirror_mode": {
    "name": "ipython",
    "version": 3
   },
   "file_extension": ".py",
   "mimetype": "text/x-python",
   "name": "python",
   "nbconvert_exporter": "python",
   "pygments_lexer": "ipython3",
   "version": "3.7.1"
  }
 },
 "nbformat": 4,
 "nbformat_minor": 2
}
