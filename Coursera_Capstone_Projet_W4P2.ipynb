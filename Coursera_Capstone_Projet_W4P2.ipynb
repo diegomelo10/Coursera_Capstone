{
 "cells": [
  {
   "cell_type": "markdown",
   "metadata": {},
   "source": [
    "# Capstone Project - The Battle of Neighborhoods (Week 1)\n",
    "## Part 2\n",
    "### Data description\n"
   ]
  },
  {
   "cell_type": "markdown",
   "metadata": {},
   "source": [
    "As per the project objectives, the neighborhoods in the city of Toronto will be examined and segmented into clusters. The dataset that contains the information for developing the required analyses is Toronto Neighbourhood Profiles. According to the City of Toronto website:\n",
    "\n",
    "    “The Census of Population is held across Canada every 5 years and collects data about age and sex, families and households, language, immigration and internal migration, ethnocultural diversity, Aboriginal peoples, housing, education, income, and labor.  City of Toronto Neighbourhood Profiles use this Census data to provide a portrait of the demographic, social, and economic characteristics of the people and households in each City of Toronto neighborhood. The profiles present selected highlights from the data, but these accompanying data files provide the full data set assembled for each neighborhood.”\n",
    "\n",
    "Wikipedia is the source of additional information such as the postcodes of Toronto. The data will be scraped and wrangled from Wikipedia’s page to a data frame in which the data analysis will base the location search. Also, a dataset that has the geographical coordinates of each postal code will be included in the neighborhood data frame for further clustering and Foursquare API calls.\n",
    "\n",
    "Foursquare.com is a reliable location information provider that will be used to leverage features of each region for various types of venues and its relevant information to meet the objectives of this project, which is to determine the restaurant customers that best fit the necessity of the region.\n",
    "\n",
    "K-Clustering is an unsupervised machine learning technique that will be applied to segment and cluster these neighborhoods to understand their similarities and their relevant characteristics for this project.\n"
   ]
  },
  {
   "cell_type": "markdown",
   "metadata": {},
   "source": [
    "##### Data 1:\n",
    "Retrieved from: https://en.wikipedia.org/wiki/List_of_postal_codes_of_Canada:_M \n",
    "\n",
    "This link provides a list of postal codes in the city of Toronto in the province of Ontario. The data will be scraped and wrangled from Wikipedia’s page to a data frame\n"
   ]
  },
  {
   "cell_type": "markdown",
   "metadata": {},
   "source": [
    "![alt text](dftoronto.png \"Title\")"
   ]
  },
  {
   "cell_type": "markdown",
   "metadata": {},
   "source": [
    "##### Data 2:\n",
    "Retrieved from: https://www.toronto.ca/city-government/data-research-maps/open-data/open-data-catalogue/#8c732154-5012-9afe-d0cd-ba3ffc813d5a\n",
    "\n",
    "The city of Toronto website offers an Open Data Catalogue in which a dataset, including the neighborhood’s profile, will be used providing relevant information for analyses.\n"
   ]
  },
  {
   "cell_type": "markdown",
   "metadata": {},
   "source": [
    "![alt text](neighprofiles.png \"Title\")"
   ]
  },
  {
   "cell_type": "markdown",
   "metadata": {},
   "source": [
    "##### Data 3:\n",
    "Retrieved from: http://cocl.us/Geospatial_data\n",
    "\n",
    "This is the link to a CSV file that has the geographical coordinates of each postal code of the Toronto. \n",
    "The geographical coordinates data is provided in the third link below. \n",
    "\n",
    "The information of the coordinates will be applied to the application of clustering for better geographical understanding and visualization of the data.\n"
   ]
  },
  {
   "cell_type": "markdown",
   "metadata": {},
   "source": [
    "![alt text](dfcoord.png \"Title\")"
   ]
  },
  {
   "cell_type": "markdown",
   "metadata": {},
   "source": [
    "##### Link Foursquare:\n",
    "https://developer.foursquare.com/\n",
    "\n",
    "The Foursquare API service is the primary source of data for a detailed comprehension of restaurants located in each neighborhood\n"
   ]
  }
 ],
 "metadata": {
  "kernelspec": {
   "display_name": "Python 3",
   "language": "python",
   "name": "python3"
  },
  "language_info": {
   "codemirror_mode": {
    "name": "ipython",
    "version": 3
   },
   "file_extension": ".py",
   "mimetype": "text/x-python",
   "name": "python",
   "nbconvert_exporter": "python",
   "pygments_lexer": "ipython3",
   "version": "3.7.1"
  }
 },
 "nbformat": 4,
 "nbformat_minor": 2
}
